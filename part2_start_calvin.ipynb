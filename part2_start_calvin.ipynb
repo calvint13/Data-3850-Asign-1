{
 "cells": [
  {
   "cell_type": "code",
   "execution_count": 2,
   "metadata": {},
   "outputs": [],
   "source": [
    "import pandas as pd\n",
    "import numpy as np\n",
    "\n",
    "from sklearn.model_selection import cross_val_score\n",
    "from sklearn.metrics import roc_auc_score\n",
    "from sklearn.metrics import accuracy_score\n",
    "\n",
    "##Seaborn for fancy plots. \n",
    "import matplotlib.pyplot as plt\n",
    "import seaborn as sns\n",
    "plt.rcParams[\"figure.figsize\"] = (8,8) "
   ]
  },
  {
   "attachments": {},
   "cell_type": "markdown",
   "metadata": {},
   "source": [
    "## 3950 Assignment 1: Part 2\n",
    "\n",
    "For this assignment we want to use some sort of tree based model to classify the data below. We have a very small training set, so overfitting is a very real concern. \n",
    "\n",
    "Some specifics for this assignment:\n",
    "<ul>\n",
    "<li>Please use the show_eda to control if EDA stuff is shown. I don't really need to see all the EDA stuff (nor do you after you've done it), so we can make it configurable with a variable to speed up time. Please set this FALSE when you submit, so I can run all and see the outcome without histograms etc...\n",
    "<li>Please ensure that whatever model you end up with is in a variable named best at the end.\n",
    "<li>Please use some pipeline in prepping the data. The test data is in an identical format to the training data, so whatever pipeline you've created for your training will work for the testing. \n",
    "<li>The accuracy scoring will be an average of accuracy and roc_auc. \n",
    "</ul>\n",
    "\n",
    "### Grading Metrics\n",
    "<ul>\n",
    "<li><b>Pipeline Used - 10pts</b> The data loading needs to be in a pipeline. See the test part for illustration. When testing I'll call your pipe with the new data (format is identical to training), so any prep stuff should be in the pipeline. \n",
    "<li><b>Tree Based Model Used - 5pts</b> The model used for classification needs to be some variety of tree, beyond that it is up to you. \n",
    "<li><b>Accuracy - 5pts</b> The final accuracy acheived. This will be a rough ranking, I'm assuming most people will get a similar level of accuracy, marks will only be deducted if yours is far wosrse, as that's an indication that you probably didn't take any/many steps to improve things. \n",
    "<li><b>Clarity and Formatting - 5pts</b> Is it organized and can I read it?\n",
    "    <ul>\n",
    "    <li> <b>Note:</b> for this assignment, and in general, please get rid of my comments and replace them with your own. I'm going to read this, so all of these instructions aren't really required. Think of this as a template, get rid of the stuff that isn't needed, and leave only the things you need to explain your code. \n",
    "    </ul>\n",
    "</ul>\n",
    "\n",
    "For submission, please drop the URL for your repository in the dropbox."
   ]
  },
  {
   "cell_type": "code",
   "execution_count": 4,
   "metadata": {},
   "outputs": [],
   "source": [
    "#Please change to your name.\n",
    "name = \"Calvin\"\n",
    "\n",
    "#Please use this to control EDA. \n",
    "show_eda = False"
   ]
  },
  {
   "cell_type": "code",
   "execution_count": 5,
   "metadata": {},
   "outputs": [
    {
     "data": {
      "text/html": [
       "<div>\n",
       "<style scoped>\n",
       "    .dataframe tbody tr th:only-of-type {\n",
       "        vertical-align: middle;\n",
       "    }\n",
       "\n",
       "    .dataframe tbody tr th {\n",
       "        vertical-align: top;\n",
       "    }\n",
       "\n",
       "    .dataframe thead th {\n",
       "        text-align: right;\n",
       "    }\n",
       "</style>\n",
       "<table border=\"1\" class=\"dataframe\">\n",
       "  <thead>\n",
       "    <tr style=\"text-align: right;\">\n",
       "      <th></th>\n",
       "      <th>target</th>\n",
       "      <th>var_1</th>\n",
       "      <th>var_2</th>\n",
       "      <th>var_3</th>\n",
       "      <th>var_4</th>\n",
       "      <th>var_5</th>\n",
       "      <th>var_6</th>\n",
       "      <th>var_7</th>\n",
       "      <th>var_8</th>\n",
       "      <th>var_9</th>\n",
       "      <th>...</th>\n",
       "      <th>var_191</th>\n",
       "      <th>var_192</th>\n",
       "      <th>var_193</th>\n",
       "      <th>var_194</th>\n",
       "      <th>var_195</th>\n",
       "      <th>var_196</th>\n",
       "      <th>var_197</th>\n",
       "      <th>var_198</th>\n",
       "      <th>var_199</th>\n",
       "      <th>var_200</th>\n",
       "    </tr>\n",
       "  </thead>\n",
       "  <tbody>\n",
       "    <tr>\n",
       "      <th>92</th>\n",
       "      <td>1</td>\n",
       "      <td>0.488</td>\n",
       "      <td>0.219</td>\n",
       "      <td>0.295</td>\n",
       "      <td>0.201</td>\n",
       "      <td>0.273</td>\n",
       "      <td>0.119</td>\n",
       "      <td>0.080</td>\n",
       "      <td>0.641</td>\n",
       "      <td>0.815</td>\n",
       "      <td>...</td>\n",
       "      <td>0.995</td>\n",
       "      <td>0.115</td>\n",
       "      <td>0.232</td>\n",
       "      <td>0.890</td>\n",
       "      <td>0.575</td>\n",
       "      <td>0.480</td>\n",
       "      <td>0.073</td>\n",
       "      <td>0.810</td>\n",
       "      <td>0.738</td>\n",
       "      <td>0.475</td>\n",
       "    </tr>\n",
       "    <tr>\n",
       "      <th>71</th>\n",
       "      <td>0</td>\n",
       "      <td>0.295</td>\n",
       "      <td>0.129</td>\n",
       "      <td>0.070</td>\n",
       "      <td>0.859</td>\n",
       "      <td>0.849</td>\n",
       "      <td>0.248</td>\n",
       "      <td>0.629</td>\n",
       "      <td>0.690</td>\n",
       "      <td>0.084</td>\n",
       "      <td>...</td>\n",
       "      <td>0.488</td>\n",
       "      <td>0.911</td>\n",
       "      <td>0.526</td>\n",
       "      <td>0.466</td>\n",
       "      <td>0.979</td>\n",
       "      <td>0.378</td>\n",
       "      <td>0.551</td>\n",
       "      <td>0.356</td>\n",
       "      <td>0.659</td>\n",
       "      <td>0.532</td>\n",
       "    </tr>\n",
       "    <tr>\n",
       "      <th>141</th>\n",
       "      <td>1</td>\n",
       "      <td>0.628</td>\n",
       "      <td>0.865</td>\n",
       "      <td>0.663</td>\n",
       "      <td>0.681</td>\n",
       "      <td>0.581</td>\n",
       "      <td>0.457</td>\n",
       "      <td>0.784</td>\n",
       "      <td>0.870</td>\n",
       "      <td>0.600</td>\n",
       "      <td>...</td>\n",
       "      <td>0.154</td>\n",
       "      <td>0.464</td>\n",
       "      <td>0.204</td>\n",
       "      <td>0.414</td>\n",
       "      <td>0.185</td>\n",
       "      <td>0.610</td>\n",
       "      <td>0.305</td>\n",
       "      <td>0.751</td>\n",
       "      <td>0.510</td>\n",
       "      <td>0.876</td>\n",
       "    </tr>\n",
       "    <tr>\n",
       "      <th>26</th>\n",
       "      <td>0</td>\n",
       "      <td>0.516</td>\n",
       "      <td>0.507</td>\n",
       "      <td>0.322</td>\n",
       "      <td>0.449</td>\n",
       "      <td>0.536</td>\n",
       "      <td>0.310</td>\n",
       "      <td>0.568</td>\n",
       "      <td>0.991</td>\n",
       "      <td>0.318</td>\n",
       "      <td>...</td>\n",
       "      <td>0.308</td>\n",
       "      <td>0.022</td>\n",
       "      <td>0.970</td>\n",
       "      <td>0.297</td>\n",
       "      <td>0.495</td>\n",
       "      <td>0.302</td>\n",
       "      <td>0.863</td>\n",
       "      <td>0.671</td>\n",
       "      <td>0.466</td>\n",
       "      <td>0.356</td>\n",
       "    </tr>\n",
       "    <tr>\n",
       "      <th>175</th>\n",
       "      <td>0</td>\n",
       "      <td>0.727</td>\n",
       "      <td>0.462</td>\n",
       "      <td>0.184</td>\n",
       "      <td>0.176</td>\n",
       "      <td>0.915</td>\n",
       "      <td>0.991</td>\n",
       "      <td>0.575</td>\n",
       "      <td>0.324</td>\n",
       "      <td>0.762</td>\n",
       "      <td>...</td>\n",
       "      <td>0.473</td>\n",
       "      <td>0.802</td>\n",
       "      <td>0.308</td>\n",
       "      <td>0.747</td>\n",
       "      <td>0.248</td>\n",
       "      <td>0.230</td>\n",
       "      <td>0.014</td>\n",
       "      <td>0.907</td>\n",
       "      <td>0.182</td>\n",
       "      <td>0.435</td>\n",
       "    </tr>\n",
       "  </tbody>\n",
       "</table>\n",
       "<p>5 rows × 201 columns</p>\n",
       "</div>"
      ],
      "text/plain": [
       "     target  var_1  var_2  var_3  var_4  var_5  var_6  var_7  var_8  var_9  \\\n",
       "92        1  0.488  0.219  0.295  0.201  0.273  0.119  0.080  0.641  0.815   \n",
       "71        0  0.295  0.129  0.070  0.859  0.849  0.248  0.629  0.690  0.084   \n",
       "141       1  0.628  0.865  0.663  0.681  0.581  0.457  0.784  0.870  0.600   \n",
       "26        0  0.516  0.507  0.322  0.449  0.536  0.310  0.568  0.991  0.318   \n",
       "175       0  0.727  0.462  0.184  0.176  0.915  0.991  0.575  0.324  0.762   \n",
       "\n",
       "     ...  var_191  var_192  var_193  var_194  var_195  var_196  var_197  \\\n",
       "92   ...    0.995    0.115    0.232    0.890    0.575    0.480    0.073   \n",
       "71   ...    0.488    0.911    0.526    0.466    0.979    0.378    0.551   \n",
       "141  ...    0.154    0.464    0.204    0.414    0.185    0.610    0.305   \n",
       "26   ...    0.308    0.022    0.970    0.297    0.495    0.302    0.863   \n",
       "175  ...    0.473    0.802    0.308    0.747    0.248    0.230    0.014   \n",
       "\n",
       "     var_198  var_199  var_200  \n",
       "92     0.810    0.738    0.475  \n",
       "71     0.356    0.659    0.532  \n",
       "141    0.751    0.510    0.876  \n",
       "26     0.671    0.466    0.356  \n",
       "175    0.907    0.182    0.435  \n",
       "\n",
       "[5 rows x 201 columns]"
      ]
     },
     "execution_count": 5,
     "metadata": {},
     "output_type": "execute_result"
    }
   ],
   "source": [
    "#Load data\n",
    "df = pd.read_csv(\"training.csv\")\n",
    "df = df.drop(columns={\"id\"})\n",
    "df.sample(5)"
   ]
  },
  {
   "cell_type": "markdown",
   "metadata": {},
   "source": [
    "### Starting\n",
    "\n",
    "For this assignment, you have a small training set, so combatting overfitting is key in being accurate!"
   ]
  },
  {
   "cell_type": "code",
   "execution_count": 4,
   "metadata": {},
   "outputs": [
    {
     "data": {
      "text/plain": [
       "(250, 201)"
      ]
     },
     "execution_count": 4,
     "metadata": {},
     "output_type": "execute_result"
    }
   ],
   "source": [
    "df.shape"
   ]
  },
  {
   "attachments": {},
   "cell_type": "markdown",
   "metadata": {},
   "source": [
    "#### Do Modelling Stuff\n",
    "\n",
    "Make a tree model (of some vareity) and make it fit well. Keep in mind the possibility of your tree overfitting, and think of steps you may need to combat that shoudl it occur. "
   ]
  },
  {
   "cell_type": "code",
   "execution_count": 92,
   "metadata": {},
   "outputs": [
    {
     "name": "stdout",
     "output_type": "stream",
     "text": [
      "0.5714285714285714\n",
      "Pipeline(steps=[('scaler', StandardScaler()),\n",
      "                ('forest', DecisionTreeClassifier(max_depth=5))])\n"
     ]
    }
   ],
   "source": [
    "from sklearn.tree import DecisionTreeClassifier\n",
    "from sklearn.preprocessing import StandardScaler\n",
    "from sklearn.model_selection import train_test_split\n",
    "from sklearn.pipeline import Pipeline\n",
    "from sklearn.model_selection import GridSearchCV\n",
    "\n",
    "\n",
    "#Split data\n",
    "y = np.array(df[\"target\"]).reshape(-1,1)\n",
    "X = np.array(df.drop(columns={\"target\"}))\n",
    "X_train, X_test, y_train, y_test = train_test_split(X, y)\n",
    "\n",
    "#Set up pipline\n",
    "scaler_ = StandardScaler()\n",
    "estimator_ = DecisionTreeClassifier()\n",
    "pipe_ = Pipeline(steps=[(\"scaler\", scaler_), (\"forest\", estimator_)])\n",
    "\n",
    "params_ = {'forest__max_depth':[5,6,7,8,9]}\n",
    " \n",
    "clf_ = GridSearchCV(pipe_, param_grid=params_, cv=5, n_jobs=-1) \n",
    "clf_.fit(X_train, y_train.ravel())\n",
    "best = clf_.best_estimator_\n",
    "print(best.score(X_test, y_test))\n",
    "print(best)"
   ]
  },
  {
   "cell_type": "code",
   "execution_count": 105,
   "metadata": {},
   "outputs": [
    {
     "name": "stdout",
     "output_type": "stream",
     "text": [
      "0.6190476190476191\n",
      "Pipeline(steps=[('scaler', MinMaxScaler()),\n",
      "                ('forrest',\n",
      "                 RandomForestClassifier(max_depth=10, n_estimators=175,\n",
      "                                        n_jobs=-1))])\n"
     ]
    }
   ],
   "source": [
    "from sklearn.model_selection import train_test_split\n",
    "from sklearn.pipeline import Pipeline\n",
    "from sklearn.preprocessing import MinMaxScaler\n",
    "from sklearn.ensemble import RandomForestClassifier\n",
    "from sklearn.model_selection import GridSearchCV\n",
    "\n",
    "#Split data\n",
    "y = np.array(df[\"target\"]).reshape(-1,1)\n",
    "X = np.array(df.drop(columns={\"target\"}))\n",
    "X_train, X_test, y_train, y_test = train_test_split(X, y)\n",
    "\n",
    "#Set up pipeline\n",
    "scaler_ = MinMaxScaler()\n",
    "estimator_ = RandomForestClassifier(n_jobs=-1)\n",
    "pipe_ = Pipeline(steps=[(\"scaler\", scaler_), (\"forrest\", estimator_)])\n",
    "\n",
    "params_ = {'forrest__max_depth':[8,9,10,11,12], \"forrest__n_estimators\":[150,175,200]}\n",
    " \n",
    "clf_ = GridSearchCV(pipe_, param_grid=params_, cv=5, n_jobs=-1) \n",
    "clf_.fit(X_train, y_train.ravel())\n",
    "best_ = clf_.best_estimator_\n",
    "print(best_.score(X_test, y_test))\n",
    "print(best_)\n"
   ]
  },
  {
   "cell_type": "markdown",
   "metadata": {},
   "source": [
    "### Finishing\n",
    "\n",
    "At the conclusion, please name your best model \"best\". If you look down below in the testing stuff, it should be usable to score as \"best\". \n",
    "\n",
    "You should be able to call it like this and it should work (with whatever data names you have)"
   ]
  },
  {
   "cell_type": "code",
   "execution_count": 106,
   "metadata": {},
   "outputs": [
    {
     "name": "stdout",
     "output_type": "stream",
     "text": [
      "0.8253968253968254\n",
      "Pipeline(steps=[('scaler', StandardScaler()),\n",
      "                ('forest', DecisionTreeClassifier(max_depth=5))])\n"
     ]
    }
   ],
   "source": [
    "print(best.score(X_test, y_test))\n",
    "print(best)"
   ]
  },
  {
   "cell_type": "markdown",
   "metadata": {},
   "source": [
    "### Testing\n",
    "\n",
    "Please leave the stuff below as-is in your file. \n",
    "\n",
    "This will take your best model and score it with the test data. If you want to test to make sure that yours works, make a copy of the data file and rename it testing.csv, then make sure this runs ok. I will do the same, but the contents of my test file will be different. "
   ]
  },
  {
   "cell_type": "code",
   "execution_count": 86,
   "metadata": {},
   "outputs": [
    {
     "name": "stdout",
     "output_type": "stream",
     "text": [
      "0.6006111975034187\n",
      "0.5998987341772152\n",
      "Calvin 0.6002549658403169\n"
     ]
    }
   ],
   "source": [
    "#Load Test Data\n",
    "test_df = pd.read_csv(\"testing.csv\")\n",
    "test_df = test_df.drop(columns={\"id\"})\n",
    "#Create tests and score\n",
    "test_y = np.array(test_df[\"target\"]).reshape(-1,1)\n",
    "test_X = np.array(test_df.drop(columns={\"target\"}))\n",
    "\n",
    "preds = best.predict(test_X)\n",
    "\n",
    "roc_score = roc_auc_score(test_y, preds)\n",
    "acc_score = accuracy_score(test_y, preds)\n",
    "\n",
    "print(roc_score)\n",
    "print(acc_score)\n",
    "print(name, np.mean([roc_score, acc_score]))\n"
   ]
  },
  {
   "attachments": {},
   "cell_type": "markdown",
   "metadata": {},
   "source": [
    "### What Accuracy Changes Were Used\n",
    "\n",
    "Please list here what you did to try to increase accuracy and/or limit overfitting:\n",
    "<ul>\n",
    "<li> Added a gridsearch to stop overfitting\n",
    "<li> Switched to RandomForst model with MinMaxScaler\n",
    "</ul>"
   ]
  }
 ],
 "metadata": {
  "interpreter": {
   "hash": "4d722d3adfa415172c1f5238b519fb86b488acdae450fd691ab06c09f4ca9173"
  },
  "kernelspec": {
   "display_name": "Python 3.9.7 64-bit ('ml3950': conda)",
   "language": "python",
   "name": "python3"
  },
  "language_info": {
   "codemirror_mode": {
    "name": "ipython",
    "version": 3
   },
   "file_extension": ".py",
   "mimetype": "text/x-python",
   "name": "python",
   "nbconvert_exporter": "python",
   "pygments_lexer": "ipython3",
   "version": "3.11.4"
  },
  "orig_nbformat": 4
 },
 "nbformat": 4,
 "nbformat_minor": 2
}
